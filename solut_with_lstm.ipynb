{
 "cells": [
  {
   "cell_type": "code",
   "execution_count": 1,
   "metadata": {},
   "outputs": [],
   "source": [
    "import pandas as pd\n",
    "import os\n",
    "import numpy as np"
   ]
  },
  {
   "cell_type": "code",
   "execution_count": 3,
   "metadata": {},
   "outputs": [],
   "source": [
    "\n",
    "folder_path = os.path.join(os.getcwd(), \"dataset\", \"aclImdb\", \"train\", \"neg\")\n",
    "\n",
    "data = []\n",
    "\n",
    "for filename in os.listdir(folder_path):\n",
    "    score = filename.split('_')[1].replace(\".txt\", \"\")  \n",
    "    with open(os.path.join(folder_path, filename), 'r', encoding='utf-8') as file:\n",
    "        text = file.read().strip()    \n",
    "    data.append({\"text\": text, \"score\": score})\n",
    "\n",
    "df = pd.DataFrame(data)\n",
    "\n",
    "\n"
   ]
  },
  {
   "cell_type": "code",
   "execution_count": 4,
   "metadata": {},
   "outputs": [],
   "source": [
    "\n",
    "folder_path = os.path.join(os.getcwd(), \"dataset\", \"aclImdb\", \"train\", \"pos\")\n",
    "\n",
    "data = []\n",
    "\n",
    "for filename in os.listdir(folder_path):\n",
    "    score = filename.split('_')[1].replace(\".txt\", \"\")\n",
    "    with open(os.path.join(folder_path, filename), 'r', encoding='utf-8') as file:\n",
    "        text = file.read().strip() \n",
    "    data.append({\"text\": text, \"score\": score})\n",
    "\n",
    "df2 = pd.DataFrame(data)\n"
   ]
  },
  {
   "cell_type": "code",
   "execution_count": 5,
   "metadata": {},
   "outputs": [],
   "source": [
    "folder_path = os.path.join(os.getcwd(), \"dataset\", \"aclImdb\", \"test\", \"pos\")\n",
    "data = []\n",
    "\n",
    "for filename in os.listdir(folder_path):\n",
    "    score = filename.split('_')[1].replace(\".txt\", \"\")\n",
    "    with open(os.path.join(folder_path, filename), 'r', encoding='utf-8') as file:\n",
    "        text = file.read().strip()\n",
    "    data.append({\"text\": text, \"score\": score})\n",
    "df3 = pd.DataFrame(data)\n"
   ]
  },
  {
   "cell_type": "code",
   "execution_count": 6,
   "metadata": {},
   "outputs": [],
   "source": [
    "folder_path = os.path.join(os.getcwd(), \"dataset\", \"aclImdb\", \"test\", \"neg\")\n",
    "data = []\n",
    "for filename in os.listdir(folder_path):\n",
    "    score = filename.split('_')[1].replace(\".txt\", \"\")\n",
    "    with open(os.path.join(folder_path, filename), 'r', encoding='utf-8') as file:\n",
    "        text = file.read().strip() \n",
    "    data.append({\"text\": text, \"score\": score})\n",
    "df4 = pd.DataFrame(data)"
   ]
  },
  {
   "cell_type": "code",
   "execution_count": 7,
   "metadata": {},
   "outputs": [],
   "source": [
    "df_fin1 = pd.concat([df, df2])\n",
    "df_fin2 = pd.concat([df3, df4])\n",
    "ds_fin = pd.concat([df_fin1, df_fin2])\n"
   ]
  },
  {
   "cell_type": "code",
   "execution_count": 8,
   "metadata": {},
   "outputs": [],
   "source": [
    "import re\n",
    "import nltk\n",
    "from sklearn.model_selection import train_test_split\n",
    "from sklearn.feature_extraction.text import TfidfVectorizer\n",
    "from nltk.corpus import stopwords\n",
    "from nltk.tokenize import word_tokenize"
   ]
  },
  {
   "cell_type": "code",
   "execution_count": 9,
   "metadata": {},
   "outputs": [],
   "source": [
    "ds_fin.score = pd.to_numeric(ds_fin.score)"
   ]
  },
  {
   "cell_type": "code",
   "execution_count": 21,
   "metadata": {},
   "outputs": [],
   "source": [
    "ds_fin['class'] = ds_fin['score'].apply(lambda p: 1 if p >= 7 else (0 if p <= 4 else None))\n"
   ]
  },
  {
   "cell_type": "code",
   "execution_count": 24,
   "metadata": {},
   "outputs": [
    {
     "name": "stderr",
     "output_type": "stream",
     "text": [
      "[nltk_data] Downloading package punkt to\n",
      "[nltk_data]     C:\\Users\\Ilya\\AppData\\Roaming\\nltk_data...\n",
      "[nltk_data]   Package punkt is already up-to-date!\n"
     ]
    }
   ],
   "source": [
    "df = ds_fin\n",
    "\n",
    "def clean_text(text):\n",
    "    text = re.sub(r'<br />', ' ', text)  \n",
    "    text = re.sub(r'[^a-zA-Z0-9\\s]', '', text)  \n",
    "    text = text.lower() \n",
    "    return text\n",
    "\n",
    "df['cleaned_text'] = df['text'].apply(clean_text)\n",
    "nltk.download('punkt')\n",
    "df['tokenized_text'] = df['cleaned_text'].apply(word_tokenize)\n",
    "\n",
    "X_train, X_test, y_train, y_test = train_test_split(df['tokenized_text'], df['score'], test_size=0.5, random_state=42)\n"
   ]
  },
  {
   "cell_type": "code",
   "execution_count": 25,
   "metadata": {},
   "outputs": [],
   "source": [
    "from gensim.models import Word2Vec\n",
    "\n",
    "word2vec_model = Word2Vec(sentences=X_train, vector_size=100, window=5, min_count=2, workers=4)\n",
    "word2vec_model.save(\"word2vec_movie_reviews.model\")"
   ]
  },
  {
   "cell_type": "code",
   "execution_count": 27,
   "metadata": {},
   "outputs": [],
   "source": [
    "import torch\n",
    "from torch.utils.data import Dataset, DataLoader\n",
    "class MovieReviewDataset(Dataset):\n",
    "    def __init__(self, reviews, scores, word2vec_model, max_seq_len=100):\n",
    "        self.reviews = reviews\n",
    "        self.scores = torch.tensor(scores.astype(float).values, dtype=torch.float32)\n",
    "        self.word2vec_model = word2vec_model\n",
    "        self.vector_size = word2vec_model.vector_size\n",
    "        self.max_seq_len = max_seq_len \n",
    "\n",
    "    def __len__(self):\n",
    "        return len(self.reviews)\n",
    "\n",
    "    def __getitem__(self, idx):\n",
    "        tokens = self.reviews.iloc[idx]\n",
    "        vectors = [self.word2vec_model.wv[token] for token in tokens if token in self.word2vec_model.wv]\n",
    "\n",
    "        if len(vectors) < self.max_seq_len:\n",
    "            vectors += [np.zeros(self.vector_size)] * (self.max_seq_len - len(vectors))\n",
    "        else:\n",
    "            vectors = vectors[:self.max_seq_len]\n",
    "\n",
    "        embedding = torch.tensor(vectors, dtype=torch.float32)\n",
    "        return embedding, self.scores[idx]\n",
    "\n",
    "train_dataset = MovieReviewDataset(X_train, y_train, word2vec_model)\n",
    "test_dataset = MovieReviewDataset(X_test, y_test, word2vec_model)\n",
    "\n",
    "train_loader = DataLoader(train_dataset, batch_size=32, shuffle=True)\n",
    "test_loader = DataLoader(test_dataset, batch_size=32)\n"
   ]
  },
  {
   "cell_type": "code",
   "execution_count": 36,
   "metadata": {},
   "outputs": [],
   "source": [
    "import torch\n",
    "import torch.nn as nn\n",
    "\n",
    "class LSTMModel(nn.Module):\n",
    "    def __init__(self, embedding_dim, hidden_dim, num_layers=1):\n",
    "        super(LSTMModel, self).__init__()\n",
    "        self.lstm = nn.LSTM(input_size=embedding_dim, hidden_size=hidden_dim, num_layers=num_layers, batch_first=True)\n",
    "        self.fc = nn.Linear(hidden_dim, 1) \n",
    "\n",
    "    def forward(self, x):\n",
    "        lstm_out, _ = self.lstm(x)       \n",
    "        lstm_out = lstm_out[:, -1, :]      \n",
    "        output = self.fc(lstm_out)       \n",
    "        output = output.view(-1)       \n",
    "        return output\n"
   ]
  },
  {
   "cell_type": "code",
   "execution_count": 41,
   "metadata": {},
   "outputs": [
    {
     "name": "stdout",
     "output_type": "stream",
     "text": [
      "Epoch [1/10], Loss: 10.6095\n",
      "Epoch [2/10], Loss: 6.8995\n",
      "Epoch [3/10], Loss: 6.0778\n",
      "Epoch [4/10], Loss: 5.5502\n",
      "Epoch [5/10], Loss: 5.2228\n",
      "Epoch [6/10], Loss: 4.8632\n",
      "Epoch [7/10], Loss: 4.5559\n",
      "Epoch [8/10], Loss: 4.2448\n",
      "Epoch [9/10], Loss: 3.8620\n",
      "Epoch [10/10], Loss: 3.5830\n"
     ]
    }
   ],
   "source": [
    "import torch.optim as optim\n",
    "embedding_dim = 100 \n",
    "hidden_dim = 128\n",
    "num_layers = 1\n",
    "num_epochs = 10\n",
    "learning_rate = 0.001\n",
    "device = torch.device('cuda')\n",
    "\n",
    "model = LSTMModel(embedding_dim=embedding_dim, hidden_dim=hidden_dim, num_layers=num_layers)\n",
    "model = model.to(device)\n",
    "\n",
    "criterion = nn.MSELoss()\n",
    "optimizer = optim.Adam(model.parameters(), lr=learning_rate)\n",
    "\n",
    "for epoch in range(num_epochs):\n",
    "    model.train()\n",
    "    running_loss = 0.0\n",
    "    \n",
    "    for embeddings, labels in train_loader:\n",
    "        embeddings, labels = embeddings.to(device), labels.to(device)\n",
    "\n",
    "        optimizer.zero_grad() \n",
    "        outputs = model(embeddings) \n",
    "        loss = criterion(outputs, labels) \n",
    "        loss.backward()\n",
    "        optimizer.step()\n",
    "\n",
    "        running_loss += loss.item()\n",
    "\n",
    "    print(f'Epoch [{epoch+1}/{num_epochs}], Loss: {running_loss / len(train_loader):.4f}')"
   ]
  },
  {
   "cell_type": "code",
   "execution_count": 57,
   "metadata": {},
   "outputs": [
    {
     "name": "stdout",
     "output_type": "stream",
     "text": [
      "Test Loss: 1.7389, Accuracy: 82.50%\n"
     ]
    }
   ],
   "source": [
    "criterion2 = nn.L1Loss()\n",
    "model.eval()\n",
    "test_loss = 0.0\n",
    "correct = 0\n",
    "total = 0\n",
    "\n",
    "with torch.no_grad():\n",
    "    for embeddings, labels in test_loader:\n",
    "        embeddings, labels = embeddings.to(device), labels.to(device)\n",
    "        outputs = model(embeddings)\n",
    "        loss = criterion2(outputs.squeeze(), labels)\n",
    "        test_loss += loss.item()\n",
    "        predicted = torch.ge(outputs, 5).float() \n",
    "        labels_binary = torch.ge(labels, 5).float() \n",
    "        correct += (predicted == labels_binary).sum().item()\n",
    "        total += labels.size(0)\n",
    "accuracy = correct / total\n",
    "\n",
    "print(f'Test Loss: {test_loss / len(test_loader):.4f}, Accuracy: {accuracy * 100:.2f}%')\n"
   ]
  }
 ],
 "metadata": {
  "kernelspec": {
   "display_name": "Python 3.11.2 64-bit",
   "language": "python",
   "name": "python3"
  },
  "language_info": {
   "codemirror_mode": {
    "name": "ipython",
    "version": 3
   },
   "file_extension": ".py",
   "mimetype": "text/x-python",
   "name": "python",
   "nbconvert_exporter": "python",
   "pygments_lexer": "ipython3",
   "version": "3.11.2"
  },
  "orig_nbformat": 4,
  "vscode": {
   "interpreter": {
    "hash": "2469a70536e4d2335a2ea8907942d0699c37342a371ac185bdb5b0aa6f073890"
   }
  }
 },
 "nbformat": 4,
 "nbformat_minor": 2
}
